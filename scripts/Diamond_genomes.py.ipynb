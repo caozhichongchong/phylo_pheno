{
 "cells": [
  {
   "cell_type": "code",
   "execution_count": 1,
   "metadata": {},
   "outputs": [],
   "source": [
    "import os,glob"
   ]
  },
  {
   "cell_type": "code",
   "execution_count": 5,
   "metadata": {},
   "outputs": [],
   "source": [
    "# setup database and script folder\n",
    "database = 'geno_pheno/database/Butyrate.pro.fasta'\n",
    "#os.system('makedb')\n",
    "script_folder = 'geno_pheno/scripts/'\n",
    "try:\n",
    "    os.mkdir(script_folder)\n",
    "except IOError:\n",
    "    pass"
   ]
  },
  {
   "cell_type": "code",
   "execution_count": 6,
   "metadata": {},
   "outputs": [
    {
     "data": {
      "text/plain": [
       "['geno_pheno/genomes/1.faa',\n",
       " 'geno_pheno/genomes/2.faa',\n",
       " 'geno_pheno/genomes/3.faa',\n",
       " 'geno_pheno/genomes/4.faa']"
      ]
     },
     "execution_count": 6,
     "metadata": {},
     "output_type": "execute_result"
    }
   ],
   "source": [
    "# import all genomes\n",
    "allgenomes = glob.glob('geno_pheno/genomes/*.faa')\n",
    "allgenomes"
   ]
  },
  {
   "cell_type": "code",
   "execution_count": 8,
   "metadata": {},
   "outputs": [],
   "source": [
    "# run diamond\n",
    "def run_diamond(genome,database):\n",
    "    cmds = '#!/bin/bash\\nsource ~/.bashrc\\n'\n",
    "    cmds += 'diamond blastp --query %s --db %s.dmnd --out %s.diamond.txt --outfmt 6 --max-target-seqs 2 --evalue 1e-2 --threads 4\\n'%(\n",
    "    genome,database,genome)\n",
    "    #cmds += 'python Diamond_test.py -in %s.diamond.txt\\n'%(genome)\n",
    "    return cmds\n",
    "    "
   ]
  },
  {
   "cell_type": "code",
   "execution_count": 12,
   "metadata": {},
   "outputs": [],
   "source": [
    "# for each genome, generate bash files\n",
    "i = 0\n",
    "cmds = ''\n",
    "for genome in allgenomes:\n",
    "    cmds = run_diamond(genome,database)\n",
    "    i += 1\n",
    "    if i%100 == 0:\n",
    "        f1 = open('%s/%s.sh'%(script_folder,i),'w')\n",
    "        f1.write(cmds)\n",
    "        f1.close()\n",
    "        cmds = ''\n",
    "        "
   ]
  },
  {
   "cell_type": "code",
   "execution_count": 15,
   "metadata": {},
   "outputs": [
    {
     "data": {
      "text/plain": [
       "('geno_pheno/genomes', '4.faa')"
      ]
     },
     "execution_count": 15,
     "metadata": {},
     "output_type": "execute_result"
    }
   ],
   "source": [
    "os.path.split(genome)"
   ]
  },
  {
   "cell_type": "code",
   "execution_count": 13,
   "metadata": {},
   "outputs": [
    {
     "data": {
      "text/plain": [
       "['geno_pheno/scripts/1.faa.sh',\n",
       " 'geno_pheno/scripts/2.faa.sh',\n",
       " 'geno_pheno/scripts/3.faa.sh',\n",
       " 'geno_pheno/scripts/4.faa.sh']"
      ]
     },
     "execution_count": 13,
     "metadata": {},
     "output_type": "execute_result"
    }
   ],
   "source": [
    "# find all scripts\n",
    "allscripts = glob.glob('%s/*.sh'%(script_folder))\n",
    "allscripts"
   ]
  },
  {
   "cell_type": "code",
   "execution_count": 14,
   "metadata": {},
   "outputs": [],
   "source": [
    "# generate a bash file to submit all jobs\n",
    "submitscript = '#!/bin/bash\\nsource ~/.bashrc\\n'\n",
    "for script in allscripts:\n",
    "    submitscript += 'jobmit %s\\n'%(script)\n",
    "f1 = open('%s/../submitalljob.sh'%(script_folder),'w')\n",
    "f1.write(submitscript)\n",
    "f1.close()"
   ]
  },
  {
   "cell_type": "code",
   "execution_count": 23,
   "metadata": {},
   "outputs": [
    {
     "name": "stdout",
     "output_type": "stream",
     "text": [
      "we want to write am_EsCi 004 4.0000e+00 4.00 times\n"
     ]
    }
   ],
   "source": [
    "genome = 'am_EsCi'\n",
    "time_writing = 4\n",
    "print('we want to write %s %.3d %.4e %.2f times'%(genome,time_writing,time_writing,time_writing))"
   ]
  },
  {
   "cell_type": "code",
   "execution_count": 31,
   "metadata": {},
   "outputs": [
    {
     "name": "stdout",
     "output_type": "stream",
     "text": [
      ">CONTIG0\n",
      "CAGT\n",
      "\n",
      ">CONTIG1\n",
      "CTTG\n",
      "\n",
      ">CONTIG2\n",
      "TGCT\n",
      "\n",
      ">CONTIG3\n",
      "GACA\n",
      "\n",
      ">CONTIG4\n",
      "ACCA\n",
      "\n",
      ">CONTIG5\n",
      "TTAG\n",
      "\n",
      ">CONTIG6\n",
      "TCGG\n",
      "\n",
      ">CONTIG7\n",
      "GAAC\n",
      "\n",
      ">CONTIG8\n",
      "GTAC\n",
      "\n",
      ">CONTIG9\n",
      "ATAT\n",
      "\n"
     ]
    }
   ],
   "source": [
    "import random\n",
    "record_id = 'CONTIG'\n",
    "allDNA = ['A','T','G','C']\n",
    "for i in range(0,10):\n",
    "    record_seq = random.choices(allDNA, k = 4)\n",
    "    print('>%s%s\\n%s\\n'%(record_id,i,''.join(record_seq)))"
   ]
  },
  {
   "cell_type": "code",
   "execution_count": null,
   "metadata": {},
   "outputs": [],
   "source": []
  }
 ],
 "metadata": {
  "kernelspec": {
   "display_name": "Python 3",
   "language": "python",
   "name": "python3"
  },
  "language_info": {
   "codemirror_mode": {
    "name": "ipython",
    "version": 3
   },
   "file_extension": ".py",
   "mimetype": "text/x-python",
   "name": "python",
   "nbconvert_exporter": "python",
   "pygments_lexer": "ipython3",
   "version": "3.6.10"
  }
 },
 "nbformat": 4,
 "nbformat_minor": 2
}
